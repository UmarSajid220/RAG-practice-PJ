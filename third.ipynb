{
 "cells": [
  {
   "cell_type": "code",
   "execution_count": 39,
   "id": "057ef5b9",
   "metadata": {},
   "outputs": [],
   "source": [
    "import os\n",
    "from dotenv import load_dotenv\n",
    "from google import genai\n",
    "import openpyxl\n",
    "import sys\n"
   ]
  },
  {
   "cell_type": "code",
   "execution_count": 40,
   "id": "7b9c973d",
   "metadata": {},
   "outputs": [],
   "source": [
    "file_name = \"students.xlsx\"\n",
    "all_student_data = []"
   ]
  },
  {
   "cell_type": "code",
   "execution_count": 41,
   "id": "9c005372",
   "metadata": {},
   "outputs": [
    {
     "name": "stdout",
     "output_type": "stream",
     "text": [
      "✅ Successfully loaded 'students.xlsx'.\n"
     ]
    }
   ],
   "source": [
    "try:\n",
    "    with open(file_name, 'rb') as f:\n",
    "        workbook = openpyxl.load_workbook(f)\n",
    "\n",
    "    sheet = workbook.active\n",
    "    print(f\"✅ Successfully loaded '{file_name}'.\")\n",
    "\n",
    "    all_student_data = list(sheet.iter_rows(values_only=True))\n",
    "\n",
    "except FileNotFoundError:\n",
    "    print(\"❌ Error 404! File Not Found.\")\n",
    "    sys.exit(1)\n",
    "except Exception as e:\n",
    "    print(f\"❌ An error occurred while processing the Excel file: {e}\")\n",
    "    sys.exit(1)"
   ]
  },
  {
   "cell_type": "code",
   "execution_count": 42,
   "id": "9d651071",
   "metadata": {},
   "outputs": [],
   "source": [
    "data_context_string = \"\\n\".join([\", \".join(map(str, row)) for row in all_student_data])"
   ]
  },
  {
   "cell_type": "code",
   "execution_count": 43,
   "id": "5bcba497",
   "metadata": {},
   "outputs": [],
   "source": [
    "load_dotenv(override=True)\n",
    "GEMINI_API_KEY = os.getenv(\"GEMINI_API_KEY\")\n",
    "\n",
    "if not GEMINI_API_KEY:\n",
    "    print(\"❌ API Key Error: GEMINI_API_KEY not found in .env file.\")\n",
    "    sys.exit(1)\n",
    "\n",
    "client = genai.Client(api_key=GEMINI_API_KEY)"
   ]
  },
  {
   "cell_type": "code",
   "execution_count": 44,
   "id": "691190a3",
   "metadata": {},
   "outputs": [],
   "source": [
    "query = input(\"Enter your Student ID or Phone Number to get your information: \")\n",
    "\n",
    "prompt = f\"\"\"\n",
    "You are an intelligent data retrieval assistant.\n",
    "Based *only* on the student data provided below, find the information for a student matching the given ID, Name, or Phone Number.\n",
    "The data is structured as comma-separated values (CSV) where the first row is the header.\n",
    "If there are multiple matches, return all matching rows. If no match is found, return the exact phrase: 'No data found'.\n",
    "Write the output in a clear, readable format.\n",
    "like this:\n",
    "Name: John Doe\n",
    "ID: 123456\n",
    "Course Enrolled: Computer Science\n",
    "Days: Saturday and Sunday\n",
    "Time: 10:00 AM - 12:00 PM\n",
    "Room No: Lab 1\n",
    "\n",
    "--- STUDENT DATA ---\n",
    "{data_context_string}\n",
    "--- END OF DATA ---\n",
    "\n",
    "Query: {query}\n",
    "\"\"\""
   ]
  },
  {
   "cell_type": "code",
   "execution_count": 45,
   "id": "62e442eb",
   "metadata": {},
   "outputs": [
    {
     "name": "stdout",
     "output_type": "stream",
     "text": [
      "\n",
      "--- Retrieval Result ---\n",
      "Name: Hafiz M Imran\n",
      "ID: 509154\n",
      "Course Enrolled: Graphics Design Essentials\n",
      "Days: Sat–Sun\n",
      "Time: 07:00 PM – 09:00 PM\n",
      "Room No: Lab 1\n",
      "----------------------\n"
     ]
    }
   ],
   "source": [
    "try:\n",
    "    response = client.models.generate_content(\n",
    "        model=\"gemini-2.5-flash\", contents=prompt\n",
    "    )\n",
    "    print(\"\\n--- Retrieval Result ---\")\n",
    "    print(response.text)\n",
    "    print(\"----------------------\")\n",
    "\n",
    "except Exception as e:\n",
    "    print(f\"❌ Gemini API Error: {e}\")"
   ]
  },
  {
   "cell_type": "code",
   "execution_count": 46,
   "id": "85fe6550",
   "metadata": {},
   "outputs": [],
   "source": [
    "#EXPLAINED STEPS:\n",
    "# --- 1. Load Excel Data ---\n",
    " # Initialize a list to hold all data\n",
    "\n",
    "# --- 2. Prepare Data for Prompt ---\n",
    "# Convert the list of tuples into a clean, readable string (like a CSV)\n",
    "# We join the header and data rows with newlines to form the data context\n",
    "\n",
    "# --- 3. Setup Gemini Client ---\n",
    "\n",
    "# --- 4. Prepare and Send Prompt ---"
   ]
  }
 ],
 "metadata": {
  "kernelspec": {
   "display_name": "RAG-PRACTICE-PJ (.venv)",
   "language": "python",
   "name": ".venv"
  },
  "language_info": {
   "codemirror_mode": {
    "name": "ipython",
    "version": 3
   },
   "file_extension": ".py",
   "mimetype": "text/x-python",
   "name": "python",
   "nbconvert_exporter": "python",
   "pygments_lexer": "ipython3",
   "version": "3.12.11"
  }
 },
 "nbformat": 4,
 "nbformat_minor": 5
}
