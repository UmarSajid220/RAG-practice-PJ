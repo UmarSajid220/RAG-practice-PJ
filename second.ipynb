{
 "cells": [
  {
   "cell_type": "code",
   "execution_count": 1,
   "id": "2a86c2a5",
   "metadata": {},
   "outputs": [],
   "source": [
    "import os\n",
    "from dotenv import load_dotenv\n",
    "from google import genai"
   ]
  },
  {
   "cell_type": "code",
   "execution_count": null,
   "id": "5b52f78d",
   "metadata": {},
   "outputs": [],
   "source": [
    "with open(\"BanoQabilSWL.txt\", \"r\") as f:\n",
    "    system_prompt = f.read()\n",
    "    system_prompt = system_prompt.replace(\"\\n\", \" \")\n"
   ]
  },
  {
   "cell_type": "code",
   "execution_count": 5,
   "id": "b4389b42",
   "metadata": {},
   "outputs": [],
   "source": [
    "load_dotenv()\n",
    "GEMINI_API_KEY = os.getenv(\"GEMINI_API_KEY\")"
   ]
  },
  {
   "cell_type": "code",
   "execution_count": 7,
   "id": "98a8cde9",
   "metadata": {},
   "outputs": [
    {
     "name": "stdout",
     "output_type": "stream",
     "text": [
      "You can contact Bano Qabil Sahiwal through the following methods:\n",
      "\n",
      "*   **Phone Number:** 0335 0800911\n",
      "*   **Email Address:** banoqabilsahiwal@gmail.com\n",
      "*   **Campus Address:** 137, Main Fateh Sher Road, Sahiwal, Pakistan\n",
      "*   **Registration Portal:** Banoqabil.org (for course registration)\n"
     ]
    }
   ],
   "source": [
    "query = input(\"Ask a question about Bano Qabil Sahiwal: \")\n",
    "prompt = f\"\"\"\n",
    "Based on the following information about Bano Qabil, answer the question below.\n",
    "{system_prompt}\n",
    "Question:\n",
    "{query}\n",
    "\"\"\"\n",
    "\n",
    "client = genai.Client(api_key=GEMINI_API_KEY)\n",
    "\n",
    "response = client.models.generate_content(\n",
    "    model=\"gemini-2.5-flash\", contents=prompt\n",
    ")\n",
    "print(response.text)"
   ]
  }
 ],
 "metadata": {
  "kernelspec": {
   "display_name": "ragpj",
   "language": "python",
   "name": "python3"
  },
  "language_info": {
   "codemirror_mode": {
    "name": "ipython",
    "version": 3
   },
   "file_extension": ".py",
   "mimetype": "text/x-python",
   "name": "python",
   "nbconvert_exporter": "python",
   "pygments_lexer": "ipython3",
   "version": "3.12.11"
  }
 },
 "nbformat": 4,
 "nbformat_minor": 5
}
