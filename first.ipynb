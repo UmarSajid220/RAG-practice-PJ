{
 "cells": [
  {
   "cell_type": "code",
   "execution_count": 9,
   "id": "f064ea68",
   "metadata": {},
   "outputs": [],
   "source": [
    "import chromadb\n",
    "import os\n",
    "from dotenv import load_dotenv\n",
    "from google import genai"
   ]
  },
  {
   "cell_type": "code",
   "execution_count": 10,
   "id": "ec7c9536",
   "metadata": {},
   "outputs": [],
   "source": [
    "chroma_client = chromadb.PersistentClient()\n"
   ]
  },
  {
   "cell_type": "code",
   "execution_count": 11,
   "id": "60f69a61",
   "metadata": {},
   "outputs": [],
   "source": [
    "load_dotenv(override=True)\n",
    "GEMINI_API_KEY = os.getenv(\"GOOGLE_API_KEY\") \n",
    "collection = chroma_client.get_or_create_collection(name=\"my_collection\")"
   ]
  },
  {
   "cell_type": "code",
   "execution_count": 12,
   "id": "71b4678f",
   "metadata": {},
   "outputs": [],
   "source": [
    "banoqabilswl_document = \"\"\"\n",
    "The Bano Qabil program is an ambitious initiative launched by the Alkhidmat Foundation, and it has an established operational presence in Sahiwal. While detailed, dedicated Sahiwal-specific information like a direct campus address is not always publicized externally, its activities are confirmed by the official program website, which explicitly offers aptitude test results for candidates from Sahiwal. Bano Qabil's core mission is to empower the youth across Pakistan, including those in Punjab, by equipping them with modern, job-oriented IT skills to secure employment, pursue successful freelancing careers, and contribute positively to the national economy.\n",
    "\n",
    "The Bano Qabil program is renowned for offering 100% free-of-cost, advanced, certified IT courses. These physical, in-person training programs typically run for three months. A wide variety of in-demand courses are generally offered, such as Digital Marketing & Freelancing, Web Development (covering HTML, CSS, JavaScript, and advanced frameworks like React), Graphic Designing, Video Editing, Amazon FBA Virtual Assistant, and Cyber Security Fundamentals. General eligibility criteria require applicants to be between 14 and 30 years old, and they must possess a personal laptop or desktop computer to participate effectively in the training.\n",
    "\n",
    "Prospective students for Bano Qabil Sahiwal must follow the central program's rigorous enrollment process, which begins with online registration announced on official channels. This is followed by an Aptitude Test and a final interview. After successfully clearing these stages, candidates select their preferred campus—Sahiwal being one of the options—before submitting the required form and a refundable security deposit. For the most accurate and up-to-date information regarding registration announcements, course offerings, and campus locations in Sahiwal, candidates should monitor the main program's social media. General program inquiries can be directed to the official Bano Qabil website at https://banoqabilsahiwal.org/, or through their central contact points: WhatsApp at 0317-8226242, phone at 021 38282263, or email at help@banoqabil.pk.\n",
    "\"\"\"\n",
    "\n",
    "collection.upsert(\n",
    "    documents=[banoqabilswl_document],\n",
    "    ids=[\"BanoQabilSWL_info\"]\n",
    ")"
   ]
  },
  {
   "cell_type": "code",
   "execution_count": 13,
   "id": "04b74747",
   "metadata": {},
   "outputs": [],
   "source": [
    "query = input(\"Ask a question about the Bano Qabil Sahiwal program: \")\n",
    "\n",
    "results = collection.query(\n",
    "    query_texts=[query], # Use the user's question to find relevant documents\n",
    "    n_results=1\n",
    ")"
   ]
  },
  {
   "cell_type": "code",
   "execution_count": 14,
   "id": "02760195",
   "metadata": {},
   "outputs": [],
   "source": [
    "if results and 'documents' in results and results['documents'][0]:\n",
    "    retrieved_context = results['documents'][0][0]\n",
    "else:\n",
    "    # Fallback if no relevant document is found (though unlikely in this case with only one document)\n",
    "    retrieved_context = \"No relevant information was found in the knowledge base.\"\n"
   ]
  },
  {
   "cell_type": "code",
   "execution_count": 15,
   "id": "4568e2b2",
   "metadata": {},
   "outputs": [],
   "source": [
    "prompt = f\"\"\"\n",
    "Based ONLY on the following information about the Bano Qabil Sahiwal program, answer the question below.\n",
    "Do not use any external knowledge. If the answer is not contained in the information, state that clearly.\n",
    "\n",
    "Information:\n",
    "{retrieved_context}\n",
    "\n",
    "Question:\n",
    "{query}\n",
    "\"\"\""
   ]
  },
  {
   "cell_type": "code",
   "execution_count": 16,
   "id": "e3ae0f9e",
   "metadata": {},
   "outputs": [
    {
     "name": "stdout",
     "output_type": "stream",
     "text": [
      "\n",
      "--- Gemini Answer ---\n",
      "\n",
      "The Bano Qabil program generally offers a wide variety of in-demand courses, including:\n",
      "*   Digital Marketing & Freelancing\n",
      "*   Web Development (covering HTML, CSS, JavaScript, and advanced frameworks like React)\n",
      "*   Graphic Designing\n",
      "*   Video Editing\n",
      "*   Amazon FBA Virtual Assistant\n",
      "*   Cyber Security Fundamentals\n"
     ]
    }
   ],
   "source": [
    "client = genai.Client(api_key=GEMINI_API_KEY)\n",
    "\n",
    "response = client.models.generate_content(\n",
    "    model=\"gemini-2.5-flash\", \n",
    "    contents=prompt\n",
    ")\n",
    "\n",
    "print(\"\\n--- Gemini Answer ---\\n\")\n",
    "print(response.text)"
   ]
  }
 ],
 "metadata": {
  "kernelspec": {
   "display_name": "RAG-PRACTICE-PJ (.venv)",
   "language": "python",
   "name": ".venv"
  },
  "language_info": {
   "codemirror_mode": {
    "name": "ipython",
    "version": 3
   },
   "file_extension": ".py",
   "mimetype": "text/x-python",
   "name": "python",
   "nbconvert_exporter": "python",
   "pygments_lexer": "ipython3",
   "version": "3.12.11"
  }
 },
 "nbformat": 4,
 "nbformat_minor": 5
}
