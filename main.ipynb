{
 "cells": [
  {
   "cell_type": "code",
   "execution_count": 2,
   "id": "f064ea68",
   "metadata": {},
   "outputs": [],
   "source": [
    "import chromadb\n"
   ]
  },
  {
   "cell_type": "code",
   "execution_count": 10,
   "id": "ec7c9536",
   "metadata": {},
   "outputs": [],
   "source": [
    "chroma_client = chromadb.Client()"
   ]
  },
  {
   "cell_type": "code",
   "execution_count": 11,
   "id": "acac5ac7",
   "metadata": {},
   "outputs": [],
   "source": [
    "# switch `create_collection` to `get_or_create_collection` to avoid creating a new collection every time\n",
    "collection = chroma_client.get_or_create_collection(name=\"my_collection\")"
   ]
  },
  {
   "cell_type": "code",
   "execution_count": 12,
   "id": "71b4678f",
   "metadata": {},
   "outputs": [],
   "source": [
    "\n",
    "# switch `add` to `upsert` to avoid adding the same documents every time\n",
    "collection.upsert(\n",
    "    documents=[\n",
    "        \"This is a document about pineapple\",\n",
    "        \"This is a document about oranges\"\n",
    "    ],\n",
    "    ids=[\"id1\", \"id2\"]\n",
    ")\n"
   ]
  },
  {
   "cell_type": "code",
   "execution_count": 13,
   "id": "04b74747",
   "metadata": {},
   "outputs": [
    {
     "name": "stdout",
     "output_type": "stream",
     "text": [
      "{'ids': [['id2', 'id1']], 'embeddings': None, 'documents': [['This is a document about oranges', 'This is a document about pineapple']], 'uris': None, 'included': ['metadatas', 'documents', 'distances'], 'data': None, 'metadatas': [[None, None]], 'distances': [[1.1462137699127197, 1.3015384674072266]]}\n"
     ]
    }
   ],
   "source": [
    "\n",
    "results = collection.query(\n",
    "    query_texts=[\"This is a query document about florida\"], # Chroma will embed this for you\n",
    "    n_results=2 # how many results to return\n",
    ")\n",
    "\n",
    "print(results)"
   ]
  },
  {
   "cell_type": "code",
   "execution_count": 4,
   "id": "3a936f80",
   "metadata": {},
   "outputs": [],
   "source": [
    "import os\n",
    "from dotenv import load_dotenv\n",
    "from google import genai"
   ]
  },
  {
   "cell_type": "code",
   "execution_count": 5,
   "id": "af3a8bbb",
   "metadata": {},
   "outputs": [],
   "source": [
    "load_dotenv(override=True)\n",
    "GEMINI_API_KEY = os.getenv(\"GOOGLE_API_KEY\")"
   ]
  },
  {
   "cell_type": "code",
   "execution_count": null,
   "id": "72179162",
   "metadata": {},
   "outputs": [],
   "source": [
    "banoqabilswl_info = \"\"\"\n",
    "The Bano Qabil program is an ambitious initiative launched by the Alkhidmat Foundation, and it has an established operational presence in Sahiwal. While detailed, dedicated Sahiwal-specific information like a direct campus address is not always publicized externally, its activities are confirmed by the official program website, which explicitly offers aptitude test results for candidates from Sahiwal. Bano Qabil's core mission is to empower the youth across Pakistan, including those in Punjab, by equipping them with modern, job-oriented IT skills to secure employment, pursue successful freelancing careers, and contribute positively to the national economy.\n",
    "\n",
    "The Bano Qabil program is renowned for offering 100% free-of-cost, advanced, certified IT courses. These physical, in-person training programs typically run for three months. A wide variety of in-demand courses are generally offered, such as Digital Marketing & Freelancing, Web Development (covering HTML, CSS, JavaScript, and advanced frameworks like React), Graphic Designing, Video Editing, Amazon FBA Virtual Assistant, and Cyber Security Fundamentals. General eligibility criteria require applicants to be between 14 and 30 years old, and they must possess a personal laptop or desktop computer to participate effectively in the training.\n",
    "\n",
    "Prospective students for Bano Qabil Sahiwal must follow the central program's rigorous enrollment process, which begins with online registration announced on official channels. This is followed by an Aptitude Test and a final interview. After successfully clearing these stages, candidates select their preferred campus—Sahiwal being one of the options—before submitting the required form and a refundable security deposit. For the most accurate and up-to-date information regarding registration announcements, course offerings, and campus locations in Sahiwal, candidates should monitor the main program's social media. General program inquiries can be directed to the official Bano Qabil website at https://banoqabilsahiwal.org/, or through their central contact points: WhatsApp at 0317-8226242, phone at 021 38282263, or email at help@banoqabil.pk.\n",
    "\"\"\""
   ]
  },
  {
   "cell_type": "code",
   "execution_count": 12,
   "id": "02760195",
   "metadata": {},
   "outputs": [
    {
     "name": "stdout",
     "output_type": "stream",
     "text": [
      "Here's the contact information for the Bano Qabil program:\n",
      "\n",
      "*   **Website:** https://banoqabilsahiqal.org/\n",
      "*   **WhatsApp:** 0317-8226242\n",
      "*   **Phone:** 021 38282263\n",
      "*   **Email:** help@banoqabil.pk\n"
     ]
    }
   ],
   "source": [
    "query = input(\"Ask a question about A squares Skills Academy: \")\n",
    "prompt = f\"\"\"\n",
    "Based on the following information about A squares Skills Academy, answer the question below.\n",
    "{banoqabilswl_info}\n",
    "Question:\n",
    "{query}\n",
    "\"\"\"\n",
    "client = genai.Client(api_key=GEMINI_API_KEY)\n",
    "\n",
    "response = client.models.generate_content(\n",
    "    model=\"gemini-2.5-flash\", contents=prompt\n",
    ")\n",
    "print(response.text)"
   ]
  },
  {
   "cell_type": "code",
   "execution_count": null,
   "id": "ad805a59",
   "metadata": {},
   "outputs": [],
   "source": []
  }
 ],
 "metadata": {
  "kernelspec": {
   "display_name": "ragpj",
   "language": "python",
   "name": "python3"
  },
  "language_info": {
   "codemirror_mode": {
    "name": "ipython",
    "version": 3
   },
   "file_extension": ".py",
   "mimetype": "text/x-python",
   "name": "python",
   "nbconvert_exporter": "python",
   "pygments_lexer": "ipython3",
   "version": "3.12.11"
  }
 },
 "nbformat": 4,
 "nbformat_minor": 5
}
